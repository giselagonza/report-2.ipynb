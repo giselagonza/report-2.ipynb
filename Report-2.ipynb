{
 "cells": [
  {
   "cell_type": "markdown",
   "metadata": {},
   "source": [
    "<h3 align=\"center\">T/UDOM/2017/15838</h3>\n",
    "<h3 align=\"center\">GISELA R GONZA</h3>\n",
    "\n"
   ]
  },
  {
   "cell_type": "markdown",
   "metadata": {},
   "source": [
    "##### REPORT 2:CHAPTER 2"
   ]
  },
  {
   "cell_type": "markdown",
   "metadata": {},
   "source": [
    "#### SUPERVISED LEARNING\n"
   ]
  },
  {
   "cell_type": "markdown",
   "metadata": {},
   "source": [
    "<p>It is used whenever we want to predict a particular    outcome from a given input, and we have examples of input/output pairs. But these input/output pairs are used to build machine learning models \n",
    "there are two types of supervised learning:<b>Classification and regression</b></p>\n"
   ]
  },
  {
   "cell_type": "markdown",
   "metadata": {},
   "source": [
    "  <b>classification</b>: It refers to as a prediction of class labels example Example, yes or no\n",
    " questions (spam/non spam) <b>regression</b>  It refers to as a prediction of a continuous number or a floating number in programming terms/real number in math example - Prediction of a person’s annual income from their education, age, and where they live. "
   ]
  },
  {
   "cell_type": "markdown",
   "metadata": {},
   "source": [
    "### Generalization, overfitting and underfitting\n",
    "If a model is able to make accurate predictions on unseen data, we say it is able to <b>generalize</b> from training set to the test set. <b>Overfitting</b>:Refers to as a building the model that is too complex for the amount of data available. Overfitting occurs when you fit a model too closely to the training set but is not able to generalize to new data. <b>undefitting</b>; Refers to as a choosing too simple a model when there is no possibility of capturing all the aspects of and variability in the data. "
   ]
  },
  {
   "cell_type": "markdown",
   "metadata": {},
   "source": [
    "### Model complexity and dataset\n",
    "The larger variety of data points your dataset contains, the more complex a model you can use without overfitting.Larger datasets allow building more complex models.Having more data and building more complex models can often work wonders for supervised learning tasks. "
   ]
  },
  {
   "cell_type": "markdown",
   "metadata": {},
   "source": [
    "### Supervised algorithms\n",
    "<b> KNN Algorithm</b>: is the simple algorithm that stores all the available cases and classify the new data based on a similarity measure. here we have the value ‘k’ which is th total number of neighbours’ chosen and how do we choose the value of ‘k’ is something we should ask ourselves \n",
    " \n",
    "\n",
    " \n"
   ]
  },
  {
   "cell_type": "markdown",
   "metadata": {},
   "source": [
    "<b> Decision tree algorithm</b>: is the graphical representation of all possible solutions to a decision. This decision is based on some conditions. Decision made can be easily explained Why is it called decision tree anyway? This is because I start from the root and then branches off to branches (various decision and various conditions) "
   ]
  },
  {
   "cell_type": "markdown",
   "metadata": {},
   "source": [
    "<b> Logistic regression algorithm</b>: is the most famous machine learning algorithm after linear regression. In a lot of ways logistic regression and linear regression are similar. But the biggest difference lies in what they are used for linear regression is used in predicting values while logistic regression is used in classifying values  "
   ]
  },
  {
   "cell_type": "code",
   "execution_count": null,
   "metadata": {},
   "outputs": [],
   "source": []
  }
 ],
 "metadata": {
  "kernelspec": {
   "display_name": "Python 3",
   "language": "python",
   "name": "python3"
  },
  "language_info": {
   "codemirror_mode": {
    "name": "ipython",
    "version": 3
   },
   "file_extension": ".py",
   "mimetype": "text/x-python",
   "name": "python",
   "nbconvert_exporter": "python",
   "pygments_lexer": "ipython3",
   "version": "3.6.5"
  }
 },
 "nbformat": 4,
 "nbformat_minor": 2
}
